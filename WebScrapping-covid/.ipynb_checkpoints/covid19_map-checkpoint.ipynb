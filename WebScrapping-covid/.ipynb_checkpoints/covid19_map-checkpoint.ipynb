{
 "cells": [
  {
   "cell_type": "markdown",
   "id": "21812e4c",
   "metadata": {},
   "source": [
    "# Peta Sebaran Covid-19 di Indonesia\n",
    "\n",
    "Notebook ini akan mengambil data kasus Covid-19 per provinsi di Indonesia, menggabungkannya dengan data koordinat provinsi, dan memvisualisasikannya dalam bentuk peta interaktif menggunakan Folium.\n"
   ]
  },
  {
   "cell_type": "code",
   "execution_count": null,
   "id": "750c03f4",
   "metadata": {},
   "outputs": [],
   "source": [
    "import requests\n",
    "import pandas as pd\n",
    "import folium\n",
    "from bs4 import BeautifulSoup\n",
    "\n",
    "# URL sumber data\n",
    "url_covid = \"https://www.worldometers.info/coronavirus/country/indonesia/\"  # Gantilah dengan sumber yang valid\n",
    "url_gps = \"https://raw.githubusercontent.com/LintangWisesa/Indonesia-Covid19-Maps/master/data/gps_indonesia.json\"\n"
   ]
  },
  {
   "cell_type": "code",
   "execution_count": null,
   "id": "9558a7f0",
   "metadata": {},
   "outputs": [],
   "source": [
    "# Step 1: Web Scraping Data Covid-19 per Provinsi\n",
    "response = requests.get(url_covid)\n",
    "soup = BeautifulSoup(response.text, 'html.parser')\n",
    "\n",
    "# Jika web scraping tidak memungkinkan, gunakan data dummy\n",
    "data_covid = pd.DataFrame({\n",
    "    \"Provinsi\": [\"DKI Jakarta\", \"Jawa Barat\", \"Jawa Tengah\", \"Jawa Timur\", \"Bali\"],\n",
    "    \"Total Kasus\": [5000, 4000, 3500, 4500, 1500],\n",
    "    \"Sembuh\": [3000, 2500, 2000, 2700, 1000],\n",
    "    \"Meninggal\": [500, 400, 350, 450, 100]\n",
    "})\n",
    "\n",
    "data_covid\n"
   ]
  },
  {
   "cell_type": "code",
   "execution_count": null,
   "id": "cda9da97",
   "metadata": {},
   "outputs": [],
   "source": [
    "# Step 2: Mendapatkan Data Lokasi (Latitude & Longitude)\n",
    "response_gps = requests.get(url_gps)\n",
    "data_gps = response_gps.json()\n",
    "df_gps = pd.DataFrame(data_gps)\n",
    "\n",
    "df_gps.head()\n"
   ]
  },
  {
   "cell_type": "code",
   "execution_count": null,
   "id": "fdd8eccb",
   "metadata": {},
   "outputs": [],
   "source": [
    "# Step 3: Merge Data Covid dengan Koordinat\n",
    "df_merged = pd.merge(data_covid, df_gps, left_on=\"Provinsi\", right_on=\"lokasi\", how=\"left\")\n",
    "\n",
    "df_merged.head()\n"
   ]
  },
  {
   "cell_type": "code",
   "execution_count": null,
   "id": "994469e7",
   "metadata": {},
   "outputs": [],
   "source": [
    "# Step 4: Membuat Peta Interaktif\n",
    "peta = folium.Map(location=[-2.5489, 118.0149], zoom_start=5)\n",
    "\n",
    "for _, row in df_merged.iterrows():\n",
    "    folium.Marker(\n",
    "        location=[row[\"lat\"], row[\"lon\"]],\n",
    "        popup=f\"{row['Provinsi']}<br>Total Kasus: {row['Total Kasus']}<br>Sembuh: {row['Sembuh']}<br>Meninggal: {row['Meninggal']}\",\n",
    "        icon=folium.Icon(color=\"red\" if row[\"Total Kasus\"] > 3000 else \"blue\")\n",
    "    ).add_to(peta)\n",
    "\n",
    "# Simpan peta sebagai file HTML\n",
    "peta.save(\"peta_covid_indonesia.html\")\n",
    "\n",
    "peta  # Menampilkan peta dalam notebook\n"
   ]
  }
 ],
 "metadata": {},
 "nbformat": 4,
 "nbformat_minor": 5
}